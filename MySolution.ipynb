{
 "cells": [
  {
   "cell_type": "markdown",
   "id": "guided-auditor",
   "metadata": {},
   "source": [
    "# Final Project\n",
    "### Zhou Lu, GTID 903391655\n",
    "\n",
    "## 1. Code Location\n",
    "The code for this solution is located at https://github.com/michael-land/entity-matching-cs4400x.git\n",
    "\n"
   ]
  },
  {
   "cell_type": "markdown",
   "id": "classical-bread",
   "metadata": {},
   "source": [
    "## 2. Solution Outline\n",
    "\n",
    "This solution, based on the sample solution from https://github.com/wurenzhi/CS4401X-Spring2021-Project, includes five steps\n",
    "\n",
    "1. Data Reading and EDA\n",
    "2. Blocking\n",
    "3. Feature Engineering\n",
    "4. Model Training\n",
    "5. Generating output\n",
    "\n",
    "The main difference between this solution and the sample solution lies in **feature engineering**, as we felt this would be the most likely to improve the results. Blocking and Model training were kept the same, as we believed blocking by brand is a very intuitive way to reduce the number of pairs, and that using a random forest classifier is an efficient way to train tabular data. Feature engineering, on the other hand, left much to be desired in terms of capturing the actual similarity of the products described. Obviously, data reading and generating output did not require any tweaking.*\n",
    "\n",
    "\n",
    "### 2.1 Data Reading and EDA\n",
    "\n",
    "This step is the same as the sample solution, since we are just reading the left table, the right table, and the training set. The following description is quoted verbatim from the sample solution:\n",
    "\n",
    "```\n",
    "We explore the dataset\n",
    "to get some ideas of designing the solution. For example, we found that the left table has 2554 rows\n",
    "and the right table has 22074 rows, so there are 2554*22074=56376996 pairs. Examining every pair\n",
    "is very inefficient, so we will need a blocking step to reduced the number of pairs that we will work\n",
    "on.\n",
    "```\n"
   ]
  },
  {
   "cell_type": "code",
   "execution_count": 1,
   "id": "after-brazilian",
   "metadata": {},
   "outputs": [],
   "source": [
    "import pandas as pd\n",
    "import numpy as np\n",
    "from os.path import join\n",
    "import time\n",
    "\n",
    "tick = time.perf_counter()\n",
    "# 1. read data\n",
    "\n",
    "ltable = pd.read_csv(join('data', \"ltable.csv\"))\n",
    "rtable = pd.read_csv(join('data', \"rtable.csv\"))\n",
    "train = pd.read_csv(join('data', \"train.csv\"))\n"
   ]
  },
  {
   "cell_type": "markdown",
   "id": "played-financing",
   "metadata": {},
   "source": [
    "### 2.2 Blocking\n",
    "\n",
    "Because we agreed it was in fact intuitive to block by brand, we kept the sample solution's blocking method.\n",
    "\n",
    "```\n",
    "We perform blocking on the attribute \"brand\", generating a candidate set of id pairs where the two\n",
    "ids in each pair share the same brand. This is based on the intuition that two products with different\n",
    "brand are unlikely to be the same entity. Our blocking method reduces the number of pairs from\n",
    "56376996 to 256606.\n",
    "```"
   ]
  },
  {
   "cell_type": "code",
   "execution_count": 2,
   "id": "regulated-designer",
   "metadata": {},
   "outputs": [
    {
     "name": "stdout",
     "output_type": "stream",
     "text": [
      "number of pairs originally 56376996\n",
      "number of pairs after blocking 256606\n"
     ]
    }
   ],
   "source": [
    "\n",
    "\n",
    "# 2. blocking\n",
    "def pairs2LR(ltable, rtable, candset):\n",
    "    ltable.index = ltable.id\n",
    "    rtable.index = rtable.id\n",
    "    pairs = np.array(candset)\n",
    "    tpls_l = ltable.loc[pairs[:, 0], :]\n",
    "    tpls_r = rtable.loc[pairs[:, 1], :]\n",
    "    tpls_l.columns = [col + \"_l\" for col in tpls_l.columns]\n",
    "    tpls_r.columns = [col + \"_r\" for col in tpls_r.columns]\n",
    "    tpls_l.reset_index(inplace=True, drop=True)\n",
    "    tpls_r.reset_index(inplace=True, drop=True)\n",
    "    LR = pd.concat([tpls_l, tpls_r], axis=1)\n",
    "    return LR\n",
    "\n",
    "\n",
    "def block_by_brand(ltable, rtable):\n",
    "    # ensure brand is str\n",
    "    ltable['brand'] = ltable['brand'].astype(str)\n",
    "    rtable['brand'] = rtable['brand'].astype(str)\n",
    "\n",
    "    # get all brands\n",
    "    brands_l = set(ltable[\"brand\"].values)\n",
    "    brands_r = set(rtable[\"brand\"].values)\n",
    "    brands = brands_l.union(brands_r)\n",
    "\n",
    "    # map each brand to left ids and right ids\n",
    "    brand2ids_l = {b.lower(): [] for b in brands}\n",
    "    brand2ids_r = {b.lower(): [] for b in brands}\n",
    "    for i, x in ltable.iterrows():\n",
    "        brand2ids_l[x[\"brand\"].lower()].append(x[\"id\"])\n",
    "    for i, x in rtable.iterrows():\n",
    "        brand2ids_r[x[\"brand\"].lower()].append(x[\"id\"])\n",
    "\n",
    "    # put id pairs that share the same brand in candidate set\n",
    "    candset = []\n",
    "    for brd in brands:\n",
    "        l_ids = brand2ids_l[brd]\n",
    "        r_ids = brand2ids_r[brd]\n",
    "        for i in range(len(l_ids)):\n",
    "            for j in range(len(r_ids)):\n",
    "                candset.append([l_ids[i], r_ids[j]])\n",
    "    return candset\n",
    "\n",
    "# blocking to reduce the number of pairs to be compared\n",
    "candset = block_by_brand(ltable, rtable)\n",
    "print(\"number of pairs originally\", ltable.shape[0] * rtable.shape[0])\n",
    "print(\"number of pairs after blocking\",len(candset))\n",
    "candset_df = pairs2LR(ltable, rtable, candset)\n",
    "\n"
   ]
  },
  {
   "cell_type": "markdown",
   "id": "informational-generator",
   "metadata": {},
   "source": [
    "### 2.3. Feature Engineering\n",
    "\n",
    "We found the feature engineering in the sample solution to be insufficient in capturing the value of similarity between different entities. For example, it used a combination of levenshtein distance and jaccard similarity for the prices, which would be better served with a simple difference function (operating on the intuition that the same entity should, in general, be similarly priced by different vendors).\n",
    "\n",
    "For each pair in the candidate set, we generate a feature vector of 10 dimensions based on:\n",
    "\n",
    "* The Jaccard Similarity and Levenshtein Distance for text attributes such as title, category, brand, and alphanumeric strings such as model number (8 attributes)\n",
    "* The longest common substring for the title attribute\n",
    "* The absolute difference of the price attributes between the two pairs\n",
    "\n",
    "*In this way, we obtain a feature matrix $X_c$ for the candidate set. We do the same to the pairs in the training set to obtain a feature matrix $X_t$. The labels for the training set is denoted as $y_t$*"
   ]
  },
  {
   "cell_type": "code",
   "execution_count": 5,
   "id": "miniature-bidder",
   "metadata": {},
   "outputs": [],
   "source": [
    "\n",
    "\n",
    "# 3. Feature engineering\n",
    "import Levenshtein as lev\n",
    "import math\n",
    "\n",
    "def jaccard_similarity(row, attr):\n",
    "    x = set(row[attr + \"_l\"].lower().split())\n",
    "    y = set(row[attr + \"_r\"].lower().split())\n",
    "    return len(x.intersection(y)) / max(len(x), len(y))\n",
    "\n",
    "\n",
    "def levenshtein_distance(row, attr):\n",
    "    x = row[attr + \"_l\"].lower()\n",
    "    y = row[attr + \"_r\"].lower()\n",
    "    return lev.distance(x, y)\n",
    "\n",
    "def price_difference(row, attr=\"price\"):\n",
    "    x_str = row[attr + \"_l\"].lower()\n",
    "    y_str = row[attr + \"_r\"].lower()\n",
    "    \n",
    "    x = float(x_str)\n",
    "    y = float(y_str)\n",
    "    if math.isnan(x):\n",
    "        x = 0\n",
    "    if math.isnan(y):\n",
    "        y = 0\n",
    "    return abs(x - y)\n",
    "\n",
    "def longest_common_substr(row, attr):\n",
    "    x_str = row[attr + \"_l\"].lower()\n",
    "    y_str = row[attr + \"_r\"].lower()\n",
    "    z = 0  # max length\n",
    "    r = len(x_str)\n",
    "    n = len(y_str)\n",
    "    \n",
    "    L = np.zeros(shape=(r, n))\n",
    "    for i in range(r):\n",
    "        for j in range(n):\n",
    "            if x_str[i] == y_str[j]:\n",
    "                if i == 1 or j == 1:\n",
    "                    L[i][j] = 1\n",
    "                else:\n",
    "                    L[i][j] = L[i-1][j-1] + 1\n",
    "                if L[i][j] > z:\n",
    "                    z = L[i][j]\n",
    "    return z\n",
    "\n",
    "def feature_engineering(LR):\n",
    "    LR = LR.astype(str)\n",
    "    attrs = [\"title\", \"category\", \"brand\", \"modelno\"]\n",
    "    features = []\n",
    "    for attr in attrs:\n",
    "        j_sim = LR.apply(jaccard_similarity, attr=attr, axis=1)\n",
    "        l_dist = LR.apply(levenshtein_distance, attr=attr, axis=1)\n",
    "        \n",
    "        features.append(j_sim)\n",
    "        features.append(l_dist)\n",
    "        if attr == \"title\":\n",
    "            l_c_sub = LR.apply(longest_common_substr, attr=attr, axis=1)\n",
    "            features.append(l_c_sub)\n",
    "    p_diff = LR.apply(price_difference, attr=\"price\", axis=1)\n",
    "    features.append(p_diff)\n",
    "    features = np.array(features).T\n",
    "    return features\n",
    "candset_features = feature_engineering(candset_df)\n",
    "\n",
    "# also perform feature engineering to the training set\n",
    "training_pairs = list(map(tuple, train[[\"ltable_id\", \"rtable_id\"]].values))\n",
    "training_df = pairs2LR(ltable, rtable, training_pairs)\n",
    "training_features = feature_engineering(training_df)\n",
    "training_label = train.label.values\n"
   ]
  },
  {
   "cell_type": "markdown",
   "id": "associate-manchester",
   "metadata": {},
   "source": [
    "### 2.4 Model Training\n",
    "\n",
    "Random forests are known to be fast to train and suitable for tabular datasets such as the one we have here, therefore we do not see a need to use another type of classifier.\n",
    "\n",
    "```\n",
    "We use a random forest classifier. We train the model on (Xt; yt). Since the number of non-matches\n",
    "is much more than the number of matches in the training set, we set class_weight=\"balanced\" in\n",
    "random forest to handle this training data imbalance problem. We perform prediction on Xc to get\n",
    "predicted labels yc for the candidate set.\n",
    "```"
   ]
  },
  {
   "cell_type": "code",
   "execution_count": 6,
   "id": "settled-primary",
   "metadata": {},
   "outputs": [],
   "source": [
    "\n",
    "# 4. Model training and prediction\n",
    "from sklearn.ensemble import RandomForestClassifier\n",
    "rf = RandomForestClassifier(class_weight=\"balanced\", random_state=0)\n",
    "rf.fit(training_features, training_label)\n",
    "y_pred = rf.predict(candset_features)\n"
   ]
  },
  {
   "cell_type": "markdown",
   "id": "modified-publisher",
   "metadata": {},
   "source": [
    "### 2.5 Generating Output\n",
    "\n",
    "This process is the same as the process in the sample solution, for obvious reasons.\n",
    "\n",
    "```\n",
    "The pairs with yc = 1 are our predicted matching pairs M. We remove the matching pairs already\n",
    "in the training set from M to obtain M−. Finally, we save M− to output.csv\n",
    "```"
   ]
  },
  {
   "cell_type": "code",
   "execution_count": 7,
   "id": "flexible-accused",
   "metadata": {},
   "outputs": [
    {
     "name": "stdout",
     "output_type": "stream",
     "text": [
      "342.6999628\n"
     ]
    }
   ],
   "source": [
    "\n",
    "# 5. output\n",
    "\n",
    "matching_pairs = candset_df.loc[y_pred == 1, [\"id_l\", \"id_r\"]]\n",
    "matching_pairs = list(map(tuple, matching_pairs.values))\n",
    "\n",
    "matching_pairs_in_training = training_df.loc[training_label == 1, [\"id_l\", \"id_r\"]]\n",
    "matching_pairs_in_training = set(list(map(tuple, matching_pairs_in_training.values)))\n",
    "\n",
    "pred_pairs = [pair for pair in matching_pairs if\n",
    "              pair not in matching_pairs_in_training]  # remove the matching pairs already in training\n",
    "pred_pairs = np.array(pred_pairs)\n",
    "pred_df = pd.DataFrame(pred_pairs, columns=[\"ltable_id\", \"rtable_id\"])\n",
    "pred_df.to_csv(\"output.csv\", index=False)\n",
    "\n",
    "tock = time.perf_counter()\n",
    "print(tock - tick)"
   ]
  },
  {
   "cell_type": "markdown",
   "id": "imported-limit",
   "metadata": {},
   "source": [
    "The total runtime is shown above."
   ]
  }
 ],
 "metadata": {
  "kernelspec": {
   "display_name": "Python 3",
   "language": "python",
   "name": "python3"
  },
  "language_info": {
   "codemirror_mode": {
    "name": "ipython",
    "version": 3
   },
   "file_extension": ".py",
   "mimetype": "text/x-python",
   "name": "python",
   "nbconvert_exporter": "python",
   "pygments_lexer": "ipython3",
   "version": "3.8.8"
  }
 },
 "nbformat": 4,
 "nbformat_minor": 5
}
